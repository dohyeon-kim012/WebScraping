{
  "nbformat": 4,
  "nbformat_minor": 0,
  "metadata": {
    "colab": {
      "name": "번외 4 - HTML 스크레이핑 2",
      "provenance": [],
      "toc_visible": true,
      "authorship_tag": "ABX9TyORVNxjFlhDOhtycuNbX1u7",
      "include_colab_link": true
    },
    "kernelspec": {
      "name": "python3",
      "display_name": "Python 3"
    },
    "language_info": {
      "name": "python"
    },
    "widgets": {
      "application/vnd.jupyter.widget-state+json": {
        "aecf2bc756c14939a2fe9f31369a2826": {
          "model_module": "@jupyter-widgets/controls",
          "model_name": "HBoxModel",
          "state": {
            "_view_name": "HBoxView",
            "_dom_classes": [],
            "_model_name": "HBoxModel",
            "_view_module": "@jupyter-widgets/controls",
            "_model_module_version": "1.5.0",
            "_view_count": null,
            "_view_module_version": "1.5.0",
            "box_style": "",
            "layout": "IPY_MODEL_6db62de8571d4ef59bccb4e80f2fbe37",
            "_model_module": "@jupyter-widgets/controls",
            "children": [
              "IPY_MODEL_785ca34b2e66454ab722f0c84c22956c",
              "IPY_MODEL_2e5affe0cad84315af766e19fc9a75fd"
            ]
          }
        },
        "6db62de8571d4ef59bccb4e80f2fbe37": {
          "model_module": "@jupyter-widgets/base",
          "model_name": "LayoutModel",
          "state": {
            "_view_name": "LayoutView",
            "grid_template_rows": null,
            "right": null,
            "justify_content": null,
            "_view_module": "@jupyter-widgets/base",
            "overflow": null,
            "_model_module_version": "1.2.0",
            "_view_count": null,
            "flex_flow": null,
            "width": null,
            "min_width": null,
            "border": null,
            "align_items": null,
            "bottom": null,
            "_model_module": "@jupyter-widgets/base",
            "top": null,
            "grid_column": null,
            "overflow_y": null,
            "overflow_x": null,
            "grid_auto_flow": null,
            "grid_area": null,
            "grid_template_columns": null,
            "flex": null,
            "_model_name": "LayoutModel",
            "justify_items": null,
            "grid_row": null,
            "max_height": null,
            "align_content": null,
            "visibility": null,
            "align_self": null,
            "height": null,
            "min_height": null,
            "padding": null,
            "grid_auto_rows": null,
            "grid_gap": null,
            "max_width": null,
            "order": null,
            "_view_module_version": "1.2.0",
            "grid_template_areas": null,
            "object_position": null,
            "object_fit": null,
            "grid_auto_columns": null,
            "margin": null,
            "display": null,
            "left": null
          }
        },
        "785ca34b2e66454ab722f0c84c22956c": {
          "model_module": "@jupyter-widgets/controls",
          "model_name": "FloatProgressModel",
          "state": {
            "_view_name": "ProgressView",
            "style": "IPY_MODEL_1639eb6f499d41478d5397652584a9c6",
            "_dom_classes": [],
            "description": "100%",
            "_model_name": "FloatProgressModel",
            "bar_style": "success",
            "max": 1,
            "_view_module": "@jupyter-widgets/controls",
            "_model_module_version": "1.5.0",
            "value": 1,
            "_view_count": null,
            "_view_module_version": "1.5.0",
            "orientation": "horizontal",
            "min": 0,
            "description_tooltip": null,
            "_model_module": "@jupyter-widgets/controls",
            "layout": "IPY_MODEL_c2ee368eecf84f7f82b523d2e97f9e5d"
          }
        },
        "2e5affe0cad84315af766e19fc9a75fd": {
          "model_module": "@jupyter-widgets/controls",
          "model_name": "HTMLModel",
          "state": {
            "_view_name": "HTMLView",
            "style": "IPY_MODEL_ab2fb2c911ba4e2ea1a3453740cc6d73",
            "_dom_classes": [],
            "description": "",
            "_model_name": "HTMLModel",
            "placeholder": "​",
            "_view_module": "@jupyter-widgets/controls",
            "_model_module_version": "1.5.0",
            "value": " 1/1 [00:03&lt;00:00,  3.54s/it]",
            "_view_count": null,
            "_view_module_version": "1.5.0",
            "description_tooltip": null,
            "_model_module": "@jupyter-widgets/controls",
            "layout": "IPY_MODEL_03f673421efe4f938488ffe6df707683"
          }
        },
        "1639eb6f499d41478d5397652584a9c6": {
          "model_module": "@jupyter-widgets/controls",
          "model_name": "ProgressStyleModel",
          "state": {
            "_view_name": "StyleView",
            "_model_name": "ProgressStyleModel",
            "description_width": "initial",
            "_view_module": "@jupyter-widgets/base",
            "_model_module_version": "1.5.0",
            "_view_count": null,
            "_view_module_version": "1.2.0",
            "bar_color": null,
            "_model_module": "@jupyter-widgets/controls"
          }
        },
        "c2ee368eecf84f7f82b523d2e97f9e5d": {
          "model_module": "@jupyter-widgets/base",
          "model_name": "LayoutModel",
          "state": {
            "_view_name": "LayoutView",
            "grid_template_rows": null,
            "right": null,
            "justify_content": null,
            "_view_module": "@jupyter-widgets/base",
            "overflow": null,
            "_model_module_version": "1.2.0",
            "_view_count": null,
            "flex_flow": null,
            "width": null,
            "min_width": null,
            "border": null,
            "align_items": null,
            "bottom": null,
            "_model_module": "@jupyter-widgets/base",
            "top": null,
            "grid_column": null,
            "overflow_y": null,
            "overflow_x": null,
            "grid_auto_flow": null,
            "grid_area": null,
            "grid_template_columns": null,
            "flex": null,
            "_model_name": "LayoutModel",
            "justify_items": null,
            "grid_row": null,
            "max_height": null,
            "align_content": null,
            "visibility": null,
            "align_self": null,
            "height": null,
            "min_height": null,
            "padding": null,
            "grid_auto_rows": null,
            "grid_gap": null,
            "max_width": null,
            "order": null,
            "_view_module_version": "1.2.0",
            "grid_template_areas": null,
            "object_position": null,
            "object_fit": null,
            "grid_auto_columns": null,
            "margin": null,
            "display": null,
            "left": null
          }
        },
        "ab2fb2c911ba4e2ea1a3453740cc6d73": {
          "model_module": "@jupyter-widgets/controls",
          "model_name": "DescriptionStyleModel",
          "state": {
            "_view_name": "StyleView",
            "_model_name": "DescriptionStyleModel",
            "description_width": "",
            "_view_module": "@jupyter-widgets/base",
            "_model_module_version": "1.5.0",
            "_view_count": null,
            "_view_module_version": "1.2.0",
            "_model_module": "@jupyter-widgets/controls"
          }
        },
        "03f673421efe4f938488ffe6df707683": {
          "model_module": "@jupyter-widgets/base",
          "model_name": "LayoutModel",
          "state": {
            "_view_name": "LayoutView",
            "grid_template_rows": null,
            "right": null,
            "justify_content": null,
            "_view_module": "@jupyter-widgets/base",
            "overflow": null,
            "_model_module_version": "1.2.0",
            "_view_count": null,
            "flex_flow": null,
            "width": null,
            "min_width": null,
            "border": null,
            "align_items": null,
            "bottom": null,
            "_model_module": "@jupyter-widgets/base",
            "top": null,
            "grid_column": null,
            "overflow_y": null,
            "overflow_x": null,
            "grid_auto_flow": null,
            "grid_area": null,
            "grid_template_columns": null,
            "flex": null,
            "_model_name": "LayoutModel",
            "justify_items": null,
            "grid_row": null,
            "max_height": null,
            "align_content": null,
            "visibility": null,
            "align_self": null,
            "height": null,
            "min_height": null,
            "padding": null,
            "grid_auto_rows": null,
            "grid_gap": null,
            "max_width": null,
            "order": null,
            "_view_module_version": "1.2.0",
            "grid_template_areas": null,
            "object_position": null,
            "object_fit": null,
            "grid_auto_columns": null,
            "margin": null,
            "display": null,
            "left": null
          }
        }
      }
    }
  },
  "cells": [
    {
      "cell_type": "markdown",
      "metadata": {
        "id": "view-in-github",
        "colab_type": "text"
      },
      "source": [
        "<a href=\"https://colab.research.google.com/github/dohyeon-kim012/WebScraping/blob/main/4.HTML%20%EC%8A%A4%ED%81%AC%EB%A0%88%EC%9D%B4%ED%95%91_2.ipynb\" target=\"_parent\"><img src=\"https://colab.research.google.com/assets/colab-badge.svg\" alt=\"Open In Colab\"/></a>"
      ]
    },
    {
      "cell_type": "markdown",
      "metadata": {
        "id": "Yvyqq06DXNAY"
      },
      "source": [
        "# 무신사 스크레이핑"
      ]
    },
    {
      "cell_type": "code",
      "metadata": {
        "id": "awssXa9BCAW5"
      },
      "source": [
        "from urllib.request import urlretrieve # 이미지 파일 저장 용도\n",
        "import requests # url 접속 용도"
      ],
      "execution_count": null,
      "outputs": []
    },
    {
      "cell_type": "code",
      "metadata": {
        "id": "4nsDjgdECG3Q"
      },
      "source": [
        "from bs4 import BeautifulSoup"
      ],
      "execution_count": null,
      "outputs": []
    },
    {
      "cell_type": "code",
      "metadata": {
        "colab": {
          "base_uri": "https://localhost:8080/"
        },
        "id": "zkaAfCgpChi8",
        "outputId": "f14ed142-b311-4e2c-8e74-7ad8c5f905b7"
      },
      "source": [
        "url = 'https://search.musinsa.com/category/001001'\n",
        "data = requests.get(url)\n",
        "data"
      ],
      "execution_count": null,
      "outputs": [
        {
          "output_type": "execute_result",
          "data": {
            "text/plain": [
              "<Response [200]>"
            ]
          },
          "metadata": {
            "tags": []
          },
          "execution_count": 81
        }
      ]
    },
    {
      "cell_type": "code",
      "metadata": {
        "id": "GhCDMdoOCuFR"
      },
      "source": [
        "musinsa_main = data.content\n",
        "soup = BeautifulSoup(musinsa_main, 'html.parser')"
      ],
      "execution_count": null,
      "outputs": []
    },
    {
      "cell_type": "code",
      "metadata": {
        "id": "O3GbJAdKC2tA"
      },
      "source": [
        "soup"
      ],
      "execution_count": null,
      "outputs": []
    },
    {
      "cell_type": "markdown",
      "metadata": {
        "id": "5hxzWbKpC6H9"
      },
      "source": [
        "**여기서 전략을 잘 짜야 함!**  \n",
        "\n",
        "1. **page** 파라미터  "
      ]
    },
    {
      "cell_type": "markdown",
      "metadata": {
        "id": "YHAbWWQmEJvd"
      },
      "source": [
        "## **pagenation** \n",
        ": page 단위로 정보를 크롤링하기 때문에, page당 정보가 어떻게 변경되는지가 중요\n",
        "\n",
        "페이지네이션 크롤링 시 참고할 수 있는 기법\n",
        "1. 몇 페이지가 마지막 페이지 인지를 알 수 있는 경우\n",
        "2. 상품 또는 게시글 개수를 알 수 있는 경우\n",
        "  * 1 페이지당 몇 개의 상품이나 게시글이 표시되는지 파악"
      ]
    },
    {
      "cell_type": "code",
      "metadata": {
        "id": "u-Zvl_veDseH"
      },
      "source": [
        "url = 'https://search.musinsa.com/category/001001?page={}'\n",
        "data = requests.get(url.format(10))\n",
        "musinsa_main = data.content\n",
        "soup = BeautifulSoup(musinsa_main, 'html.parser')\n",
        "soup"
      ],
      "execution_count": null,
      "outputs": []
    },
    {
      "cell_type": "code",
      "metadata": {
        "colab": {
          "base_uri": "https://localhost:8080/"
        },
        "id": "VKp5qoevD5zf",
        "outputId": "e4c7ba72-3b67-4ebc-f45a-4f453a429e4b"
      },
      "source": [
        "total_page_num = int(soup.select_one('#goods_list > div.boxed-list-wrapper > div.thumbType_box.box > span.pagingNumber > span.totalPagingNum').text)\n",
        "total_page_num"
      ],
      "execution_count": null,
      "outputs": [
        {
          "output_type": "execute_result",
          "data": {
            "text/plain": [
              "683"
            ]
          },
          "metadata": {
            "tags": []
          },
          "execution_count": 85
        }
      ]
    },
    {
      "cell_type": "code",
      "metadata": {
        "colab": {
          "base_uri": "https://localhost:8080/",
          "height": 173,
          "referenced_widgets": [
            "aecf2bc756c14939a2fe9f31369a2826",
            "6db62de8571d4ef59bccb4e80f2fbe37",
            "785ca34b2e66454ab722f0c84c22956c",
            "2e5affe0cad84315af766e19fc9a75fd",
            "1639eb6f499d41478d5397652584a9c6",
            "c2ee368eecf84f7f82b523d2e97f9e5d",
            "ab2fb2c911ba4e2ea1a3453740cc6d73",
            "03f673421efe4f938488ffe6df707683"
          ]
        },
        "id": "VnQxqMQdE4Wh",
        "outputId": "9ed4ad18-1170-4472-f9a7-fac94adeb955"
      },
      "source": [
        "from tqdm import tqdm_notebook\n",
        "\n",
        "GOODS_URL = \"https://store.musinsa.com/app/goods/{}\"\n",
        "\n",
        "url_list = []\n",
        "\n",
        "for page in tqdm_notebook(range(1, total_page_num+1)[:1]):  # 가져올 페이지 수 [] 결정\n",
        "    page_url = url.format(page)\n",
        "    search_page_html = requests.get(page_url).content\n",
        "    search_page_soup = BeautifulSoup(search_page_html, 'html.parser')\n",
        "\n",
        "    products = search_page_soup.select('#searchList > li')\n",
        "    print(len(products))\n",
        "\n",
        "    for product in products:\n",
        "        product_id = product['data-no'] # product id 를 뽑아올 수 있음\n",
        "        product_url = GOODS_URL.format(product_id)\n",
        "        url_list.append(product_url)\n",
        "\n",
        "print(url_list)"
      ],
      "execution_count": null,
      "outputs": [
        {
          "output_type": "stream",
          "text": [
            "/usr/local/lib/python3.7/dist-packages/ipykernel_launcher.py:7: TqdmDeprecationWarning: This function will be removed in tqdm==5.0.0\n",
            "Please use `tqdm.notebook.tqdm` instead of `tqdm.tqdm_notebook`\n",
            "  import sys\n"
          ],
          "name": "stderr"
        },
        {
          "output_type": "display_data",
          "data": {
            "application/vnd.jupyter.widget-view+json": {
              "model_id": "aecf2bc756c14939a2fe9f31369a2826",
              "version_minor": 0,
              "version_major": 2
            },
            "text/plain": [
              "HBox(children=(FloatProgress(value=0.0, max=1.0), HTML(value='')))"
            ]
          },
          "metadata": {
            "tags": []
          }
        },
        {
          "output_type": "stream",
          "text": [
            "90\n",
            "\n",
            "['https://store.musinsa.com/app/goods/1420730', 'https://store.musinsa.com/app/goods/1848166', 'https://store.musinsa.com/app/goods/996177', 'https://store.musinsa.com/app/goods/903340', 'https://store.musinsa.com/app/goods/996178', 'https://store.musinsa.com/app/goods/1886950', 'https://store.musinsa.com/app/goods/1884943', 'https://store.musinsa.com/app/goods/1900133', 'https://store.musinsa.com/app/goods/1876384', 'https://store.musinsa.com/app/goods/1845608', 'https://store.musinsa.com/app/goods/1793420', 'https://store.musinsa.com/app/goods/987149', 'https://store.musinsa.com/app/goods/1425234', 'https://store.musinsa.com/app/goods/1827193', 'https://store.musinsa.com/app/goods/1403092', 'https://store.musinsa.com/app/goods/1845485', 'https://store.musinsa.com/app/goods/1886956', 'https://store.musinsa.com/app/goods/1830175', 'https://store.musinsa.com/app/goods/996497', 'https://store.musinsa.com/app/goods/1860490', 'https://store.musinsa.com/app/goods/1356896', 'https://store.musinsa.com/app/goods/1005683', 'https://store.musinsa.com/app/goods/1840098', 'https://store.musinsa.com/app/goods/1876392', 'https://store.musinsa.com/app/goods/746276', 'https://store.musinsa.com/app/goods/324416', 'https://store.musinsa.com/app/goods/1793413', 'https://store.musinsa.com/app/goods/1886953', 'https://store.musinsa.com/app/goods/1845484', 'https://store.musinsa.com/app/goods/1820701', 'https://store.musinsa.com/app/goods/1846930', 'https://store.musinsa.com/app/goods/1824608', 'https://store.musinsa.com/app/goods/1051406', 'https://store.musinsa.com/app/goods/903341', 'https://store.musinsa.com/app/goods/1877091', 'https://store.musinsa.com/app/goods/1005680', 'https://store.musinsa.com/app/goods/1876405', 'https://store.musinsa.com/app/goods/1375522', 'https://store.musinsa.com/app/goods/1919855', 'https://store.musinsa.com/app/goods/1882396', 'https://store.musinsa.com/app/goods/538899', 'https://store.musinsa.com/app/goods/1382658', 'https://store.musinsa.com/app/goods/1827196', 'https://store.musinsa.com/app/goods/1911516', 'https://store.musinsa.com/app/goods/746280', 'https://store.musinsa.com/app/goods/1793385', 'https://store.musinsa.com/app/goods/1824607', 'https://store.musinsa.com/app/goods/1417691', 'https://store.musinsa.com/app/goods/747950', 'https://store.musinsa.com/app/goods/1761969', 'https://store.musinsa.com/app/goods/1820693', 'https://store.musinsa.com/app/goods/1454812', 'https://store.musinsa.com/app/goods/999287', 'https://store.musinsa.com/app/goods/2008051', 'https://store.musinsa.com/app/goods/748056', 'https://store.musinsa.com/app/goods/1027583', 'https://store.musinsa.com/app/goods/1840099', 'https://store.musinsa.com/app/goods/1816729', 'https://store.musinsa.com/app/goods/1893766', 'https://store.musinsa.com/app/goods/1854521', 'https://store.musinsa.com/app/goods/747941', 'https://store.musinsa.com/app/goods/345889', 'https://store.musinsa.com/app/goods/751030', 'https://store.musinsa.com/app/goods/1878085', 'https://store.musinsa.com/app/goods/1860814', 'https://store.musinsa.com/app/goods/1827192', 'https://store.musinsa.com/app/goods/1877090', 'https://store.musinsa.com/app/goods/1876370', 'https://store.musinsa.com/app/goods/1423410', 'https://store.musinsa.com/app/goods/1900132', 'https://store.musinsa.com/app/goods/996498', 'https://store.musinsa.com/app/goods/1838101', 'https://store.musinsa.com/app/goods/540421', 'https://store.musinsa.com/app/goods/1390339', 'https://store.musinsa.com/app/goods/996180', 'https://store.musinsa.com/app/goods/1027576', 'https://store.musinsa.com/app/goods/748060', 'https://store.musinsa.com/app/goods/1828538', 'https://store.musinsa.com/app/goods/364484', 'https://store.musinsa.com/app/goods/997738', 'https://store.musinsa.com/app/goods/1939099', 'https://store.musinsa.com/app/goods/1396653', 'https://store.musinsa.com/app/goods/1838095', 'https://store.musinsa.com/app/goods/1825927', 'https://store.musinsa.com/app/goods/1860815', 'https://store.musinsa.com/app/goods/1820696', 'https://store.musinsa.com/app/goods/1841764', 'https://store.musinsa.com/app/goods/501693', 'https://store.musinsa.com/app/goods/726408', 'https://store.musinsa.com/app/goods/996179']\n"
          ],
          "name": "stdout"
        }
      ]
    },
    {
      "cell_type": "code",
      "metadata": {
        "colab": {
          "base_uri": "https://localhost:8080/"
        },
        "id": "xi9k4omOFPKh",
        "outputId": "2d1b24bc-73d7-453e-e68f-cf99580c1774"
      },
      "source": [
        "url = \"http://store.musinsa.com/app/goods/1900133\"\n",
        "\n",
        "response = requests.get(url)\n",
        "print(response)"
      ],
      "execution_count": null,
      "outputs": [
        {
          "output_type": "stream",
          "text": [
            "<Response [403]>\n"
          ],
          "name": "stdout"
        }
      ]
    },
    {
      "cell_type": "markdown",
      "metadata": {
        "id": "xkt6k0ZCMA7E"
      },
      "source": [
        "Forbidden 403 으로 접속이 거부당했으므로, user_agent 를 써봄  \n",
        "이 외에 다른 여러가지 해결방법이 있음\n",
        "\n",
        "```python\n",
        "user_agent = {'User-agent' : 'Mozilla/5.0'} \n",
        "# 나는 파이썬이 아니고 Mozilla 라는 브라우저야 라고 속이는 것\n",
        "```"
      ]
    },
    {
      "cell_type": "code",
      "metadata": {
        "colab": {
          "base_uri": "https://localhost:8080/"
        },
        "id": "CjtAjiY4Ls8v",
        "outputId": "9c4b0195-b043-4d92-86cf-f2b7bd3255e9"
      },
      "source": [
        "url = \"http://store.musinsa.com/app/goods/1900133\"\n",
        "\n",
        "user_agent = {'User-agent' : 'Mozilla/5.0'}\n",
        "response = requests.get(url, headers = user_agent)\n",
        "print(response)"
      ],
      "execution_count": null,
      "outputs": [
        {
          "output_type": "stream",
          "text": [
            "<Response [200]>\n"
          ],
          "name": "stdout"
        }
      ]
    },
    {
      "cell_type": "code",
      "metadata": {
        "id": "UTCsKEkyL_23"
      },
      "source": [
        "product_page = response.content\n",
        "product_soup = BeautifulSoup(product_page, 'html.parser')\n",
        "product_soup"
      ],
      "execution_count": null,
      "outputs": []
    },
    {
      "cell_type": "markdown",
      "metadata": {
        "id": "P6iyeeC5XEbg"
      },
      "source": [
        "## 이미지 크롤링"
      ]
    },
    {
      "cell_type": "code",
      "metadata": {
        "colab": {
          "base_uri": "https://localhost:8080/"
        },
        "id": "Udy3uiSvREHv",
        "outputId": "d95e45b6-11fa-4a84-f901-af53d7d98099"
      },
      "source": [
        "# 이미지 썸네일 칸 데이터 가져오기\n",
        "thumb_div = product_soup.select(\"#detail_thumb > ul > li\")\n",
        "len(thumb_div)"
      ],
      "execution_count": null,
      "outputs": [
        {
          "output_type": "execute_result",
          "data": {
            "text/plain": [
              "5"
            ]
          },
          "metadata": {
            "tags": []
          },
          "execution_count": 90
        }
      ]
    },
    {
      "cell_type": "code",
      "metadata": {
        "colab": {
          "base_uri": "https://localhost:8080/"
        },
        "id": "51rafXq-Rcxp",
        "outputId": "ce8757fb-24e5-4794-997e-9b1c42314d54"
      },
      "source": [
        "# 이미지 썸네일 칸 데이터 가져오기\n",
        "thumb_imgs = product_soup.select(\"#detail_thumb > ul > li > img\")\n",
        "len(thumb_imgs)"
      ],
      "execution_count": null,
      "outputs": [
        {
          "output_type": "execute_result",
          "data": {
            "text/plain": [
              "5"
            ]
          },
          "metadata": {
            "tags": []
          },
          "execution_count": 91
        }
      ]
    },
    {
      "cell_type": "code",
      "metadata": {
        "colab": {
          "base_uri": "https://localhost:8080/"
        },
        "id": "6--rgxCVRnRh",
        "outputId": "5227c138-e7a2-439a-cf68-a471b98511bb"
      },
      "source": [
        "thumb_imgs[0]"
      ],
      "execution_count": null,
      "outputs": [
        {
          "output_type": "execute_result",
          "data": {
            "text/plain": [
              "<img alt=\"thum\" big_yn=\"Y\" id=\"thum_0\" src=\"//image.msscdn.net/images/goods_img/20210415/1900133/1900133_2_60.jpg\" style=\"display: inline-block; vertical-align: middle\" width=\"60\"/>"
            ]
          },
          "metadata": {
            "tags": []
          },
          "execution_count": 92
        }
      ]
    },
    {
      "cell_type": "markdown",
      "metadata": {
        "id": "BsaW5caKRvTG"
      },
      "source": [
        "### 문자열 변경하기\n",
        "\n",
        "src=\"//image.msscdn.net/images/goods_img/20210415/1900133/1900133_2_60.jpg\"  \n",
        "부분만 60 을 500 으로 바꾸면 이미지 크기가 변경됨  \n",
        "\n",
        "---\n",
        "\n",
        "스크래이핑 할 때는 html 페이지의 **패턴**을 먼저 **파악**해야 함!!"
      ]
    },
    {
      "cell_type": "code",
      "metadata": {
        "colab": {
          "base_uri": "https://localhost:8080/"
        },
        "id": "cF1XGJhgRpJN",
        "outputId": "72abecc6-b25c-41f3-f496-1c7b73588a66"
      },
      "source": [
        "print(\"https:\" + thumb_imgs[0]['src'])"
      ],
      "execution_count": null,
      "outputs": [
        {
          "output_type": "stream",
          "text": [
            "https://image.msscdn.net/images/goods_img/20210415/1900133/1900133_2_60.jpg\n"
          ],
          "name": "stdout"
        }
      ]
    },
    {
      "cell_type": "code",
      "metadata": {
        "colab": {
          "base_uri": "https://localhost:8080/",
          "height": 35
        },
        "id": "p5CpLtriSAMM",
        "outputId": "0d7b97ed-c5f6-4bb8-e2c7-64a3da434b58"
      },
      "source": [
        "thumb_imgs[0]['src'].split(\"/\")[-1].replace(\"_60\", \"_500\")"
      ],
      "execution_count": null,
      "outputs": [
        {
          "output_type": "execute_result",
          "data": {
            "application/vnd.google.colaboratory.intrinsic+json": {
              "type": "string"
            },
            "text/plain": [
              "'1900133_2_500.jpg'"
            ]
          },
          "metadata": {
            "tags": []
          },
          "execution_count": 94
        }
      ]
    },
    {
      "cell_type": "code",
      "metadata": {
        "colab": {
          "base_uri": "https://localhost:8080/"
        },
        "id": "-zBn1rWkSI9W",
        "outputId": "75a96429-e085-4818-e821-a006d0b1e8ee"
      },
      "source": [
        "img_url_splits = thumb_imgs[0]['src'].split(\"/\")\n",
        "img_url_splits[-1] = img_url_splits[-1].replace(\"_60\", \"_500\")\n",
        "img_url_splits"
      ],
      "execution_count": null,
      "outputs": [
        {
          "output_type": "execute_result",
          "data": {
            "text/plain": [
              "['',\n",
              " '',\n",
              " 'image.msscdn.net',\n",
              " 'images',\n",
              " 'goods_img',\n",
              " '20210415',\n",
              " '1900133',\n",
              " '1900133_2_500.jpg']"
            ]
          },
          "metadata": {
            "tags": []
          },
          "execution_count": 95
        }
      ]
    },
    {
      "cell_type": "code",
      "metadata": {
        "colab": {
          "base_uri": "https://localhost:8080/"
        },
        "id": "RI_49KGwSfLM",
        "outputId": "0f75b11c-7c4c-453a-ef06-699883a2ea98"
      },
      "source": [
        "print(\"https:\" + '/'.join(img_url_splits))"
      ],
      "execution_count": null,
      "outputs": [
        {
          "output_type": "stream",
          "text": [
            "https://image.msscdn.net/images/goods_img/20210415/1900133/1900133_2_500.jpg\n"
          ],
          "name": "stdout"
        }
      ]
    },
    {
      "cell_type": "code",
      "metadata": {
        "colab": {
          "base_uri": "https://localhost:8080/"
        },
        "id": "-lPqto_VSk9E",
        "outputId": "914bab55-6de5-4b9e-a35e-0a91530cb643"
      },
      "source": [
        "img_url_splits = thumb_imgs[1]['src'].split(\"/\")\n",
        "img_url_splits[-1] = img_url_splits[-1].replace(\"_60\", \"_500\")\n",
        "print(\"https:\" + '/'.join(img_url_splits))"
      ],
      "execution_count": null,
      "outputs": [
        {
          "output_type": "stream",
          "text": [
            "https://image.msscdn.net/images/prd_img/20210415/1900133/detail_1900133_2_500.jpg\n"
          ],
          "name": "stdout"
        }
      ]
    },
    {
      "cell_type": "code",
      "metadata": {
        "id": "UnKPtFXRS73r"
      },
      "source": [
        "for thumb_img in thumb_imgs:\n",
        "    img_url_splits = thumb_img['src'].split(\"/\")\n",
        "    img_url_splits[-1] = img_url_splits[-1].replace(\"_60\", \"_500\")\n",
        "    product_img_url = \"https:\" + '/'.join(img_url_splits)\n",
        "    filename = product_img_url.split(\"/\")[-1]\n",
        "\n",
        "    urlretrieve(product_img_url, filename)  # urlretrieve를 이용해 썸네일 사진들을 파일로 저장"
      ],
      "execution_count": null,
      "outputs": []
    },
    {
      "cell_type": "markdown",
      "metadata": {
        "id": "H9h4RisXVQ6A"
      },
      "source": [
        "다른 상품 페이지도 잘 크롤링이 될까??"
      ]
    },
    {
      "cell_type": "code",
      "metadata": {
        "colab": {
          "base_uri": "https://localhost:8080/",
          "height": 238
        },
        "id": "xt0fX_zQU5Yb",
        "outputId": "ebdba7d0-765f-4262-e082-024ef4a32848"
      },
      "source": [
        "# import os # 폴더를 만들기 위해 os 패키지 import\n",
        "\n",
        "# url = \"http://store.musinsa.com/app/goods/1420730\"\n",
        "\n",
        "# user_agent = {'User-agent' : 'Mozilla/5.0'}\n",
        "# response = requests.get(url, headers = user_agent)\n",
        "\n",
        "# product_page = response.content\n",
        "# product_soup = BeautifulSoup(product_page, 'html.parser')\n",
        "\n",
        "# thumb_imgs = product_soup.select(\"#detail_thumb > ul > li > img\")\n",
        "\n",
        "# # 폴더 만들기\n",
        "# dir_name = \"./{}\".format(url.split(\"/\")[-1])\n",
        "# os.mkdir(dir_name)\n",
        "\n",
        "# for thumb_img in thumb_imgs:\n",
        "\n",
        "#     img_url_splits = thumb_img['src'].split(\"/\")\n",
        "#     img_url_splits[-1] = img_url_splits[-1].replace(\"_60\", \"_500\")\n",
        "#     product_img_url = \"https:\" + '/'.join(img_url_splits)\n",
        "#     filename = product_img_url.split(\"/\")[-1]\n",
        "\n",
        "#     urlretrieve(product_img_url, \"{}/{}\".format(dir_name, filename))"
      ],
      "execution_count": null,
      "outputs": [
        {
          "output_type": "error",
          "ename": "FileExistsError",
          "evalue": "ignored",
          "traceback": [
            "\u001b[0;31m---------------------------------------------------------------------------\u001b[0m",
            "\u001b[0;31mFileExistsError\u001b[0m                           Traceback (most recent call last)",
            "\u001b[0;32m<ipython-input-100-a5d27176cd0c>\u001b[0m in \u001b[0;36m<module>\u001b[0;34m()\u001b[0m\n\u001b[1;32m     13\u001b[0m \u001b[0;31m# 폴더 만들기\u001b[0m\u001b[0;34m\u001b[0m\u001b[0;34m\u001b[0m\u001b[0;34m\u001b[0m\u001b[0m\n\u001b[1;32m     14\u001b[0m \u001b[0mdir_name\u001b[0m \u001b[0;34m=\u001b[0m \u001b[0;34m\"./{}\"\u001b[0m\u001b[0;34m.\u001b[0m\u001b[0mformat\u001b[0m\u001b[0;34m(\u001b[0m\u001b[0murl\u001b[0m\u001b[0;34m.\u001b[0m\u001b[0msplit\u001b[0m\u001b[0;34m(\u001b[0m\u001b[0;34m\"/\"\u001b[0m\u001b[0;34m)\u001b[0m\u001b[0;34m[\u001b[0m\u001b[0;34m-\u001b[0m\u001b[0;36m1\u001b[0m\u001b[0;34m]\u001b[0m\u001b[0;34m)\u001b[0m\u001b[0;34m\u001b[0m\u001b[0;34m\u001b[0m\u001b[0m\n\u001b[0;32m---> 15\u001b[0;31m \u001b[0mos\u001b[0m\u001b[0;34m.\u001b[0m\u001b[0mmkdir\u001b[0m\u001b[0;34m(\u001b[0m\u001b[0mdir_name\u001b[0m\u001b[0;34m)\u001b[0m\u001b[0;34m\u001b[0m\u001b[0;34m\u001b[0m\u001b[0m\n\u001b[0m\u001b[1;32m     16\u001b[0m \u001b[0;34m\u001b[0m\u001b[0m\n\u001b[1;32m     17\u001b[0m \u001b[0;32mfor\u001b[0m \u001b[0mthumb_img\u001b[0m \u001b[0;32min\u001b[0m \u001b[0mthumb_imgs\u001b[0m\u001b[0;34m:\u001b[0m\u001b[0;34m\u001b[0m\u001b[0;34m\u001b[0m\u001b[0m\n",
            "\u001b[0;31mFileExistsError\u001b[0m: [Errno 17] File exists: './1420730'"
          ]
        }
      ]
    },
    {
      "cell_type": "markdown",
      "metadata": {
        "id": "AsiuIEgAVqeL"
      },
      "source": [
        "## 상품 정보 크롤링"
      ]
    },
    {
      "cell_type": "markdown",
      "metadata": {
        "id": "LEZAU9H7XRGj"
      },
      "source": [
        "브랜드, 품번 가져오기"
      ]
    },
    {
      "cell_type": "code",
      "metadata": {
        "id": "3yNrz-chXTI6"
      },
      "source": [
        "product_soup.select_one(\"ul.product_article\")"
      ],
      "execution_count": null,
      "outputs": []
    },
    {
      "cell_type": "code",
      "metadata": {
        "id": "mD4PpDI1Xl9e"
      },
      "source": [
        "product_info_list = product_soup.select(\"ul.product_article > li\")\n",
        "print(product_info_list[0].select_one(\"p.product_article_contents\").select_one(\"a\").text)"
      ],
      "execution_count": null,
      "outputs": []
    },
    {
      "cell_type": "code",
      "metadata": {
        "id": "YHmWTPO_Xxij"
      },
      "source": [
        "# 브랜드 / 상품 코드 가져옴\n",
        "product_brand = product_info_list[0].select_one(\"p.product_article_contents > strong\").text.split(\" / \")[0]\n",
        "product_code = product_info_list[0].select_one(\"p.product_article_contents > strong\").text.split(\" / \")[1]\n",
        "\n",
        "print(\"브랜드 : {} / 코드 : {}\".format(product_brand, product_code))"
      ],
      "execution_count": null,
      "outputs": []
    },
    {
      "cell_type": "code",
      "metadata": {
        "id": "a1UIok9bY0uK"
      },
      "source": [
        "product_season = product_info_list[1].select_one(\"p.product_article_contents > strong\").text\n",
        "print(product_season)"
      ],
      "execution_count": null,
      "outputs": []
    },
    {
      "cell_type": "markdown",
      "metadata": {
        "id": "xAtWWHMCZXtl"
      },
      "source": [
        "print 를 통해 text의 형태를 봤을 때 season과 gender를 나누기 위해서  \n",
        "단순한 split이 아닌, 정규식이 필요함"
      ]
    },
    {
      "cell_type": "code",
      "metadata": {
        "id": "Qywg_-SpZiuB"
      },
      "source": [
        "product_season = product_info_list[1].select_one(\"p.product_article_contents > strong\").text\n",
        "# product_season = re.sub(\"[ ]{2, }\", \"\", product_season)\n",
        "product_season = ' '.join(product_season.split())\n",
        "print(product_season)"
      ],
      "execution_count": null,
      "outputs": []
    },
    {
      "cell_type": "code",
      "metadata": {
        "id": "VpgyAwy9Zy2D"
      },
      "source": [
        "# 시즌, 성별\n",
        "\n",
        "import re\n",
        "product_season_gender = product_info_list[1].select_one(\"p.product_article_contents\").text.strip()\n",
        "product_season_gender = re.sub(\"[ ]{2,}\", \" \", product_season_gender).split(\"\\n/\\n\")\n",
        "\n",
        "if len(product_season_gender) >1 :\n",
        "    product_season = product_season_gender[0].replace(\"\\n\", \"\")\n",
        "    product_gender = product_season_gender[1].replace(\"\\n\", \"\")\n",
        "else:\n",
        "    product_gender = product_season_gender[0].replace(\"\\n\", \"\")\n",
        "\n",
        "print(\"시즌 : {}, 성별 : {}\".format(product_season, product_gender))"
      ],
      "execution_count": null,
      "outputs": []
    },
    {
      "cell_type": "code",
      "metadata": {
        "id": "ipskSntKc9z3"
      },
      "source": [
        "# 좋아요 데이터\n",
        "product_info_list[4]"
      ],
      "execution_count": null,
      "outputs": []
    },
    {
      "cell_type": "markdown",
      "metadata": {
        "id": "f9Dk_d2Cd4qP"
      },
      "source": [
        "좋아요가 '0' 이라고 나옴  \n",
        "페이지에서 새로고침을 해보면 `Network - XHR - counts - Response` 에서 좋아요 데이터를 찾을 수 있음  \n",
        "`Headers`의 `Request URL`을 가져와야 함"
      ]
    },
    {
      "cell_type": "code",
      "metadata": {
        "id": "lDDeUzAhdQUY"
      },
      "source": [
        "import json\n",
        "\n",
        "user_agent = {'User-agent' : 'Mozilla/5.0'}\n",
        "\n",
        "counts = requests.post(\"https://like.musinsa.com/like/api/v1/liketypes/goods/counts\", data={\"relationIds\":[\"751030\"]}, headers = user_agent)\n",
        "\n",
        "data = json.loads(counts.content)\n",
        "data"
      ],
      "execution_count": null,
      "outputs": []
    },
    {
      "cell_type": "code",
      "metadata": {
        "id": "3WKFelxrfYPH"
      },
      "source": [
        "user_agent = {'User-agent' : 'Mozilla/5.0',\n",
        "              'content-type' : 'application/json'\n",
        "              }\n",
        "\n",
        "counts = requests.post(\"https://like.musinsa.com/like/api/v1/liketypes/goods/counts\", data={\"relationIds\":[\"751030\"]}, headers = user_agent)\n",
        "\n",
        "data = json.loads(counts.content)\n",
        "data"
      ],
      "execution_count": null,
      "outputs": []
    },
    {
      "cell_type": "code",
      "metadata": {
        "id": "QOnd_Wugf5jg"
      },
      "source": [
        "# content type이 json이므로, data도 json으로 놓고 접근해야함\n",
        "user_agent = {'User-agent' : 'Mozilla/5.0',\n",
        "              'content-type' : 'application/json'\n",
        "              }\n",
        "\n",
        "counts = requests.post(\"https://like.musinsa.com/like/api/v1/liketypes/goods/counts\",\n",
        "                       \n",
        "                       # json.dumps : 딕셔너리(dict)를 json화 시켜준다\n",
        "                       data=json.dumps({\"relationIds\":[\"751030\"]}),  # data가 parameter를 전달한다 (json type으로)\n",
        "                       headers = user_agent)\n",
        "\n",
        "data = json.loads(counts.content) # json을 딕셔너리(dict)화 시켜준다\n",
        "data"
      ],
      "execution_count": null,
      "outputs": []
    },
    {
      "cell_type": "code",
      "metadata": {
        "id": "Ce0HPYtgjZ60"
      },
      "source": [
        "data['data']['contents'][0]['count']"
      ],
      "execution_count": null,
      "outputs": []
    },
    {
      "cell_type": "code",
      "metadata": {
        "id": "VWEvEgD_jdiz"
      },
      "source": [
        "product_info_list[4].select_one(\"span.prd_like_cnt\").text"
      ],
      "execution_count": null,
      "outputs": []
    },
    {
      "cell_type": "code",
      "metadata": {
        "id": "qfnN-v5wMJbA"
      },
      "source": [
        "product_id = 751030"
      ],
      "execution_count": null,
      "outputs": []
    },
    {
      "cell_type": "code",
      "metadata": {
        "id": "qd2BjL6IKwzv"
      },
      "source": [
        "# 사진 후기\n",
        "review_photo_url = \"https://store.musinsa.com/app/reviews/goods_estimate_list/photo/{}/0/{}\".format(product_id, 1)\n",
        "review_photo_page = requests.get(review_photo_url, headers=user_agent).content\n",
        "review_photo_soup = BeautifulSoup(review_photo_page, 'html.parser')"
      ],
      "execution_count": null,
      "outputs": []
    },
    {
      "cell_type": "code",
      "metadata": {
        "id": "MIoS93AgK2DD"
      },
      "source": [
        "review_photo_soup.select(\"div.review-contents__text\")[1].text.strip()"
      ],
      "execution_count": null,
      "outputs": []
    },
    {
      "cell_type": "code",
      "metadata": {
        "id": "7E6JoNo_K3av"
      },
      "source": [
        "# 스타일 후기\n",
        "review_style_url = \"https://store.musinsa.com/app/reviews/goods_estimate_list/style/{}/0/{}\".format(product_id, 1)\n",
        "review_style_page = requests.get(review_style_url, headers=user_agent).content\n",
        "review_style_soup = BeautifulSoup(review_style_page, 'html.parser')\n",
        "review_style_soup.select(\"div.review-contents__text\")[1].text.strip()"
      ],
      "execution_count": null,
      "outputs": []
    },
    {
      "cell_type": "code",
      "metadata": {
        "id": "BFJOYpMaK4aa"
      },
      "source": [
        "# 상품 후기\n",
        "review_goods_url = \"https://store.musinsa.com/app/reviews/goods_estimate_list/goods/{}/0/{}\".format(product_id, 1)\n",
        "review_goods_page = requests.get(review_goods_url, headers=user_agent).content\n",
        "review_goods_soup = BeautifulSoup(review_goods_page, 'html.parser')\n",
        "review_goods_soup.select(\"div.review-contents__text\")[1].text.strip()"
      ],
      "execution_count": null,
      "outputs": []
    },
    {
      "cell_type": "markdown",
      "metadata": {
        "id": "IIcYiOGcOocn"
      },
      "source": [
        "최종 버전"
      ]
    },
    {
      "cell_type": "code",
      "metadata": {
        "id": "nyhsdC-iOmYf"
      },
      "source": [
        "from tqdm import tqdm_notebook\n",
        "\n",
        "GOODS_URL = \"https://store.musinsa.com/app/goods/{}\"\n",
        "\n",
        "url_list = []\n",
        "\n",
        "for page in tqdm_notebook(range(1, total_page_num+1)[:3]):\n",
        "  page_url = url.format(page)\n",
        "  search_page_html = requests.get(page_url).content\n",
        "  search_page_soup = BeautifulSoup(search_page_html, 'html.parser')\n",
        "  \n",
        "  products = search_page_soup.select(\"#searchList > li\")\n",
        "  \n",
        "  for product in products:\n",
        "    product_id = product['data-no']\n",
        "    product_url = GOODS_URL.format(product_id)\n",
        "    url_list.append(product_url)\n",
        "\n",
        "print(url_list)"
      ],
      "execution_count": null,
      "outputs": []
    },
    {
      "cell_type": "code",
      "metadata": {
        "colab": {
          "base_uri": "https://localhost:8080/",
          "height": 238
        },
        "id": "FrkRacF-K_Mc",
        "outputId": "cc04003b-817f-4770-f3af-a6eab32efaca"
      },
      "source": [
        "import os\n",
        "import re\n",
        "import json\n",
        "\n",
        "for url in url_list:\n",
        "  user_agent = {'User-agent': 'Mozilla/5.0'} # 나는 파이썬이 아니고 Mozilla 라는 브라우져야! 라고 속이는 것. 이 기법이 항상 통하는 것은 아님..\n",
        "  response  = requests.get(url, headers = user_agent)\n",
        "\n",
        "  product_page = response.content\n",
        "  product_soup = BeautifulSoup(product_page, 'html.parser')\n",
        "\n",
        "  ## 이미지 크롤링 ##\n",
        "  thumb_imgs = product_soup.select(\"#detail_thumb > ul > li > img\")\n",
        "\n",
        "  # 폴더 만들기\n",
        "  dir_name = \"./{}\".format(url.split(\"/\")[-1])\n",
        "  os.mkdir(dir_name)\n",
        "\n",
        "  for thumb_img in thumb_imgs:\n",
        "    img_url_splits = thumb_img['src'].split(\"/\")\n",
        "    img_url_splits[-1] = img_url_splits[-1].replace(\"_60\", \"_500\")\n",
        "    product_img_url = \"https:\" + '/'.join(img_url_splits)\n",
        "    filename = product_img_url.split(\"/\")[-1]\n",
        "    urlretrieve(product_img_url, \"{}/{}\".format(dir_name, filename))\n",
        "  ###############\n",
        "\n",
        "  # 브랜드 / 상품 코드\n",
        "  product_info_list = product_soup.select(\"ul.product_article > li\")\n",
        "  product_brand = product_info_list[0].select_one(\"p.product_article_contents > strong\").text.split(\" / \")[0]\n",
        "  product_code = product_info_list[0].select_one(\"p.product_article_contents > strong\").text.split(\" / \")[1]\n",
        "\n",
        "  print(\"브랜드 : {} / 코드 : {}\".format(product_brand, product_code))\n",
        "  \n",
        "  # 시즌 / 성별\n",
        "  product_season_gender = product_info_list[1].select_one(\"p.product_article_contents\").text.strip()\n",
        "  product_season_gender = re.sub(\"[ ]{2,}\", \" \", product_season_gender).split(\"\\n/\\n\")\n",
        "\n",
        "  product_season = None\n",
        "  product_gender = None\n",
        "\n",
        "  if len(product_season_gender) > 1 :\n",
        "    product_season = product_season_gender[0].replace(\"\\n\", \"\")\n",
        "    product_gender = product_season_gender[1].replace(\"\\n\", \"\")\n",
        "  else:\n",
        "    product_season = product_season_gender[0].replace(\"\\n\", \"\")\n",
        "\n",
        "  print(\"시즌 : {} / 성별 : {}\".format(product_season, product_gender))\n",
        "\n",
        "\n",
        "  # 좋아요 수\n",
        "  user_agent = {\n",
        "      'User-agent': 'Mozilla/5.0 (Macintosh; Intel Mac OS X 10_15_7) AppleWebKit/537.36 (KHTML, like Gecko) Chrome/91.0.4472.114 Safari/537.36',\n",
        "      \"content-type\": \"application/json\", # json으로 요청을 할거야~\n",
        "  }\n",
        "  counts = requests.post(\"https://like.musinsa.com/like/api/v1/liketypes/goods/counts\",\n",
        "                        \n",
        "                        # json.dumps : 딕셔너리(dict)를 json화 시켜준다.\n",
        "                        data=json.dumps({\"relationIds\":[url.split(\"/\")[-1]]}), # data : parameter 전달 하기.. json type으로 파라미터를 전달.\n",
        "                        headers = user_agent)\n",
        "\n",
        "  data = json.loads(counts.content) # json을 딕셔너리(dict)화 시켜준다.\n",
        "  print(\"좋아요 수 : {} \".format(data['data']['contents'][0]['count']))\n",
        "\n",
        "  print()"
      ],
      "execution_count": null,
      "outputs": [
        {
          "output_type": "error",
          "ename": "FileExistsError",
          "evalue": "ignored",
          "traceback": [
            "\u001b[0;31m---------------------------------------------------------------------------\u001b[0m",
            "\u001b[0;31mFileExistsError\u001b[0m                           Traceback (most recent call last)",
            "\u001b[0;32m<ipython-input-101-fdf947095a00>\u001b[0m in \u001b[0;36m<module>\u001b[0;34m()\u001b[0m\n\u001b[1;32m     15\u001b[0m   \u001b[0;31m# 폴더 만들기\u001b[0m\u001b[0;34m\u001b[0m\u001b[0;34m\u001b[0m\u001b[0;34m\u001b[0m\u001b[0m\n\u001b[1;32m     16\u001b[0m   \u001b[0mdir_name\u001b[0m \u001b[0;34m=\u001b[0m \u001b[0;34m\"./{}\"\u001b[0m\u001b[0;34m.\u001b[0m\u001b[0mformat\u001b[0m\u001b[0;34m(\u001b[0m\u001b[0murl\u001b[0m\u001b[0;34m.\u001b[0m\u001b[0msplit\u001b[0m\u001b[0;34m(\u001b[0m\u001b[0;34m\"/\"\u001b[0m\u001b[0;34m)\u001b[0m\u001b[0;34m[\u001b[0m\u001b[0;34m-\u001b[0m\u001b[0;36m1\u001b[0m\u001b[0;34m]\u001b[0m\u001b[0;34m)\u001b[0m\u001b[0;34m\u001b[0m\u001b[0;34m\u001b[0m\u001b[0m\n\u001b[0;32m---> 17\u001b[0;31m   \u001b[0mos\u001b[0m\u001b[0;34m.\u001b[0m\u001b[0mmkdir\u001b[0m\u001b[0;34m(\u001b[0m\u001b[0mdir_name\u001b[0m\u001b[0;34m)\u001b[0m\u001b[0;34m\u001b[0m\u001b[0;34m\u001b[0m\u001b[0m\n\u001b[0m\u001b[1;32m     18\u001b[0m \u001b[0;34m\u001b[0m\u001b[0m\n\u001b[1;32m     19\u001b[0m   \u001b[0;32mfor\u001b[0m \u001b[0mthumb_img\u001b[0m \u001b[0;32min\u001b[0m \u001b[0mthumb_imgs\u001b[0m\u001b[0;34m:\u001b[0m\u001b[0;34m\u001b[0m\u001b[0;34m\u001b[0m\u001b[0m\n",
            "\u001b[0;31mFileExistsError\u001b[0m: [Errno 17] File exists: './1420730'"
          ]
        }
      ]
    },
    {
      "cell_type": "markdown",
      "metadata": {
        "id": "JeS-0ovUOa9q"
      },
      "source": [
        "코랩을 이용해서 다운 받은 이미지들을 압축"
      ]
    },
    {
      "cell_type": "markdown",
      "metadata": {
        "id": "IT-6ko80v23s"
      },
      "source": [
        "`!zip -r \"압축 파일 명\" \"압축 대상 폴더\""
      ]
    },
    {
      "cell_type": "code",
      "metadata": {
        "colab": {
          "base_uri": "https://localhost:8080/"
        },
        "id": "5OftAyeSv66A",
        "outputId": "51e26ab3-4b9a-45b1-bc3f-16e8d2c7986b"
      },
      "source": [
        "!zip -r \"/content/files.zip\" \"/content\""
      ],
      "execution_count": null,
      "outputs": [
        {
          "output_type": "stream",
          "text": [
            "  adding: content/ (stored 0%)\n",
            "  adding: content/.config/ (stored 0%)\n",
            "  adding: content/.config/active_config (stored 0%)\n",
            "  adding: content/.config/gce (stored 0%)\n",
            "  adding: content/.config/.last_opt_in_prompt.yaml (stored 0%)\n",
            "  adding: content/.config/configurations/ (stored 0%)\n",
            "  adding: content/.config/configurations/config_default (deflated 15%)\n",
            "  adding: content/.config/.last_survey_prompt.yaml (stored 0%)\n",
            "  adding: content/.config/config_sentinel (stored 0%)\n",
            "  adding: content/.config/.last_update_check.json (deflated 24%)\n",
            "  adding: content/.config/logs/ (stored 0%)\n",
            "  adding: content/.config/logs/2021.07.01/ (stored 0%)\n",
            "  adding: content/.config/logs/2021.07.01/13.40.56.775713.log (deflated 91%)\n",
            "  adding: content/.config/logs/2021.07.01/13.41.17.729047.log (deflated 54%)\n",
            "  adding: content/.config/logs/2021.07.01/13.41.40.038589.log (deflated 54%)\n",
            "  adding: content/.config/logs/2021.07.01/13.41.33.930553.log (deflated 86%)\n",
            "  adding: content/.config/logs/2021.07.01/13.41.56.945079.log (deflated 54%)\n",
            "  adding: content/.config/logs/2021.07.01/13.41.57.665710.log (deflated 53%)\n",
            "  adding: content/1824608/ (stored 0%)\n",
            "  adding: content/1824608/1824608_1_500.jpg (deflated 15%)\n",
            "  adding: content/1793420/ (stored 0%)\n",
            "  adding: content/1793420/detail_1793420_5_500.jpg (deflated 7%)\n",
            "  adding: content/1793420/1793420_5_500.jpg (deflated 5%)\n",
            "  adding: content/1793420/detail_1793420_3_500.jpg (deflated 2%)\n",
            "  adding: content/1793420/detail_1793420_2_500.jpg (deflated 1%)\n",
            "  adding: content/1845608/ (stored 0%)\n",
            "  adding: content/1845608/detail_1845608_4_500.jpg (deflated 2%)\n",
            "  adding: content/1845608/detail_1845608_6_500.jpg (deflated 10%)\n",
            "  adding: content/1845608/1845608_3_500.jpg (deflated 9%)\n",
            "  adding: content/1845608/detail_1845608_5_500.jpg (deflated 8%)\n",
            "  adding: content/1845608/detail_1845608_3_500.jpg (deflated 4%)\n",
            "  adding: content/1845608/detail_1845608_2_500.jpg (deflated 10%)\n",
            "  adding: content/1845608/detail_1845608_1_500.jpg (deflated 8%)\n",
            "  adding: content/1845608/detail_1845608_7_500.jpg (deflated 4%)\n",
            "  adding: content/1845608/thumb-video.gif?20150918 (deflated 18%)\n",
            "  adding: content/1005680/ (stored 0%)\n",
            "  adding: content/1005680/1005680_5_500.jpg (deflated 12%)\n",
            "  adding: content/1005680/detail_1005680_7_500.jpg (deflated 8%)\n",
            "  adding: content/1005680/detail_1005680_12_500.jpg (deflated 8%)\n",
            "  adding: content/1005680/detail_1005680_10_500.jpg (deflated 1%)\n",
            "  adding: content/1005680/detail_1005680_11_500.jpg (deflated 7%)\n",
            "  adding: content/1005680/detail_1005680_9_500.jpg (deflated 5%)\n",
            "  adding: content/1005680/detail_1005680_13_500.jpg (deflated 4%)\n",
            "  adding: content/1005680/thumb-video.gif?20150918 (deflated 18%)\n",
            "  adding: content/1005680/detail_1005680_8_500.jpg (deflated 11%)\n",
            "  adding: content/747950/ (stored 0%)\n",
            "  adding: content/747950/747950_1_500.jpg (deflated 13%)\n",
            "  adding: content/996178/ (stored 0%)\n",
            "  adding: content/996178/detail_996178_21_500.jpg (deflated 0%)\n",
            "  adding: content/996178/detail_996178_19_500.jpg (deflated 0%)\n",
            "  adding: content/996178/detail_996178_24_500.jpg (deflated 1%)\n",
            "  adding: content/996178/996178_3_500.jpg (deflated 0%)\n",
            "  adding: content/996178/thumb-video.gif?20150918 (deflated 18%)\n",
            "  adding: content/996178/detail_996178_18_500.jpg (deflated 1%)\n",
            "  adding: content/1824607/ (stored 0%)\n",
            "  adding: content/1824607/1824607_1_500.jpg (deflated 11%)\n",
            "  adding: content/1382658/ (stored 0%)\n",
            "  adding: content/1382658/detail_1382658_4_500.jpg (deflated 1%)\n",
            "  adding: content/1382658/detail_1382658_5_500.jpg (deflated 1%)\n",
            "  adding: content/1382658/detail_1382658_1_500.jpg (deflated 1%)\n",
            "  adding: content/1382658/detail_1382658_6_500.jpg (deflated 1%)\n",
            "  adding: content/1382658/detail_1382658_2_500.jpg (deflated 1%)\n",
            "  adding: content/1382658/detail_1382658_3_500.jpg (deflated 1%)\n",
            "  adding: content/1382658/thumb-video.gif?20150918 (deflated 18%)\n",
            "  adding: content/1382658/1382658_5_500.jpg (deflated 0%)\n",
            "  adding: content/996497/ (stored 0%)\n",
            "  adding: content/996497/detail_996497_8_500.jpg (deflated 0%)\n",
            "  adding: content/996497/detail_996497_13_500.jpg (deflated 1%)\n",
            "  adding: content/996497/detail_996497_10_500.jpg (deflated 1%)\n",
            "  adding: content/996497/996497_4_500.jpg (deflated 1%)\n",
            "  adding: content/996497/detail_996497_7_500.jpg (deflated 1%)\n",
            "  adding: content/996497/thumb-video.gif?20150918 (deflated 18%)\n",
            "  adding: content/751030/ (stored 0%)\n",
            "  adding: content/751030/detail_751030_11_500.jpg (deflated 1%)\n",
            "  adding: content/751030/detail_751030_8_500.jpg (deflated 6%)\n",
            "  adding: content/751030/751030_5_500.jpg (deflated 0%)\n",
            "  adding: content/751030/detail_751030_9_500.jpg (deflated 11%)\n",
            "  adding: content/751030/detail_751030_12_500.jpg (deflated 9%)\n",
            "  adding: content/751030/thumb-video.gif?20150918 (deflated 18%)\n",
            "  adding: content/751030/detail_751030_10_500.jpg (deflated 0%)\n",
            "  adding: content/751030/detail_751030_7_500.jpg (deflated 11%)\n",
            "  adding: content/1845484/ (stored 0%)\n",
            "  adding: content/1845484/detail_1845484_5_500.jpg (deflated 7%)\n",
            "  adding: content/1845484/1845484_3_500.jpg (deflated 7%)\n",
            "  adding: content/1845484/detail_1845484_1_500.jpg (deflated 10%)\n",
            "  adding: content/1845484/detail_1845484_6_500.jpg (deflated 8%)\n",
            "  adding: content/1845484/detail_1845484_4_500.jpg (deflated 1%)\n",
            "  adding: content/1845484/detail_1845484_3_500.jpg (deflated 6%)\n",
            "  adding: content/1845484/detail_1845484_7_500.jpg (deflated 4%)\n",
            "  adding: content/1845484/thumb-video.gif?20150918 (deflated 18%)\n",
            "  adding: content/1845484/detail_1845484_2_500.jpg (deflated 11%)\n",
            "  adding: content/1886956/ (stored 0%)\n",
            "  adding: content/1886956/detail_1886956_1_500.jpg (deflated 9%)\n",
            "  adding: content/1886956/detail_1886956_3_500.jpg (deflated 9%)\n",
            "  adding: content/1886956/detail_1886956_2_500.jpg (deflated 10%)\n",
            "  adding: content/1886956/1886956_1_500.jpg (deflated 5%)\n",
            "  adding: content/1886956/detail_1886956_4_500.jpg (deflated 1%)\n",
            "  adding: content/1886956/detail_1886956_5_500.jpg (deflated 1%)\n",
            "  adding: content/detail_1900133_5_500.jpg (deflated 0%)\n",
            "  adding: content/1884943/ (stored 0%)\n",
            "  adding: content/1884943/1884943_1_500.jpg (deflated 0%)\n",
            "  adding: content/1884943/thumb-video.gif?20150918 (deflated 18%)\n",
            "  adding: content/1846930/ (stored 0%)\n",
            "  adding: content/1846930/detail_1846930_1_500.jpg (deflated 5%)\n",
            "  adding: content/1846930/detail_1846930_7_500.jpg (deflated 2%)\n",
            "  adding: content/1846930/detail_1846930_4_500.jpg (deflated 3%)\n",
            "  adding: content/1846930/detail_1846930_6_500.jpg (deflated 1%)\n",
            "  adding: content/1846930/1846930_4_500.jpg (deflated 3%)\n",
            "  adding: content/1846930/detail_1846930_8_500.jpg (deflated 0%)\n",
            "  adding: content/1846930/detail_1846930_5_500.jpg (deflated 2%)\n",
            "  adding: content/1845485/ (stored 0%)\n",
            "  adding: content/1845485/detail_1845485_4_500.jpg (deflated 0%)\n",
            "  adding: content/1845485/detail_1845485_3_500.jpg (deflated 4%)\n",
            "  adding: content/1845485/detail_1845485_6_500.jpg (deflated 5%)\n",
            "  adding: content/1845485/detail_1845485_7_500.jpg (deflated 3%)\n",
            "  adding: content/1845485/detail_1845485_2_500.jpg (deflated 9%)\n",
            "  adding: content/1845485/detail_1845485_1_500.jpg (deflated 8%)\n",
            "  adding: content/1845485/detail_1845485_5_500.jpg (deflated 7%)\n",
            "  adding: content/1845485/thumb-video.gif?20150918 (deflated 18%)\n",
            "  adding: content/1845485/1845485_1_500.jpg (deflated 5%)\n",
            "  adding: content/746280/ (stored 0%)\n",
            "  adding: content/746280/746280_5_500.jpg (deflated 0%)\n",
            "  adding: content/746280/detail_746280_11_500.jpg (deflated 0%)\n",
            "  adding: content/746280/detail_746280_18_500.jpg (deflated 19%)\n",
            "  adding: content/746280/detail_746280_16_500.jpg (deflated 4%)\n",
            "  adding: content/746280/detail_746280_12_500.jpg (deflated 0%)\n",
            "  adding: content/746280/detail_746280_15_500.jpg (deflated 19%)\n",
            "  adding: content/746280/detail_746280_17_500.jpg (deflated 2%)\n",
            "  adding: content/746280/detail_746280_10_500.jpg (deflated 0%)\n",
            "  adding: content/746280/detail_746280_14_500.jpg (deflated 15%)\n",
            "  adding: content/detail_1900133_2_500.jpg (deflated 13%)\n",
            "  adding: content/1793413/ (stored 0%)\n",
            "  adding: content/1793413/1793413_5_500.jpg (deflated 8%)\n",
            "  adding: content/1793413/detail_1793413_5_500.jpg (deflated 10%)\n",
            "  adding: content/1793413/detail_1793413_2_500.jpg (deflated 3%)\n",
            "  adding: content/1793413/detail_1793413_3_500.jpg (deflated 1%)\n",
            "  adding: content/1886953/ (stored 0%)\n",
            "  adding: content/1886953/detail_1886953_6_500.jpg (deflated 1%)\n",
            "  adding: content/1886953/detail_1886953_1_500.jpg (deflated 8%)\n",
            "  adding: content/1886953/detail_1886953_3_500.jpg (deflated 5%)\n",
            "  adding: content/1886953/detail_1886953_2_500.jpg (deflated 10%)\n",
            "  adding: content/1886953/detail_1886953_5_500.jpg (deflated 5%)\n",
            "  adding: content/1886953/detail_1886953_4_500.jpg (deflated 0%)\n",
            "  adding: content/1886953/1886953_1_500.jpg (deflated 4%)\n",
            "  adding: content/1005683/ (stored 0%)\n",
            "  adding: content/1005683/detail_1005683_11_500.jpg (deflated 6%)\n",
            "  adding: content/1005683/detail_1005683_8_500.jpg (deflated 9%)\n",
            "  adding: content/1005683/detail_1005683_7_500.jpg (deflated 7%)\n",
            "  adding: content/1005683/detail_1005683_13_500.jpg (deflated 3%)\n",
            "  adding: content/1005683/detail_1005683_9_500.jpg (deflated 3%)\n",
            "  adding: content/1005683/detail_1005683_12_500.jpg (deflated 5%)\n",
            "  adding: content/1005683/1005683_5_500.jpg (deflated 8%)\n",
            "  adding: content/1005683/thumb-video.gif?20150918 (deflated 18%)\n",
            "  adding: content/1005683/detail_1005683_10_500.jpg (deflated 0%)\n",
            "  adding: content/detail_1900133_3_500.jpg (deflated 15%)\n",
            "  adding: content/903340/ (stored 0%)\n",
            "  adding: content/903340/detail_903340_1_500.jpg (deflated 9%)\n",
            "  adding: content/903340/detail_903340_2_500.jpg (deflated 4%)\n",
            "  adding: content/903340/903340_7_500.jpg (deflated 8%)\n",
            "  adding: content/903340/detail_903340_3_500.jpg (deflated 1%)\n",
            "  adding: content/999287/ (stored 0%)\n",
            "  adding: content/999287/detail_999287_5_500.jpg (deflated 19%)\n",
            "  adding: content/999287/detail_999287_3_500.jpg (deflated 16%)\n",
            "  adding: content/999287/999287_1_500.jpg (deflated 6%)\n",
            "  adding: content/999287/detail_999287_6_500.jpg (deflated 15%)\n",
            "  adding: content/999287/detail_999287_4_500.jpg (deflated 6%)\n",
            "  adding: content/1454812/ (stored 0%)\n",
            "  adding: content/1454812/thumb-video.gif?20150918 (deflated 18%)\n",
            "  adding: content/1454812/1454812_2_500.jpg (deflated 2%)\n",
            "  adding: content/538899/ (stored 0%)\n",
            "  adding: content/538899/detail_538899_14_500.jpg (deflated 12%)\n",
            "  adding: content/538899/538899_8_500.jpg (deflated 0%)\n",
            "  adding: content/538899/detail_538899_12_500.jpg (deflated 0%)\n",
            "  adding: content/538899/detail_538899_11_500.jpg (deflated 0%)\n",
            "  adding: content/538899/detail_538899_9_500.jpg (deflated 0%)\n",
            "  adding: content/538899/detail_538899_6_500.jpg (deflated 3%)\n",
            "  adding: content/538899/detail_538899_7_500.jpg (deflated 2%)\n",
            "  adding: content/538899/detail_538899_15_500.jpg (deflated 21%)\n",
            "  adding: content/538899/thumb-video.gif?20150918 (deflated 18%)\n",
            "  adding: content/538899/detail_538899_8_500.jpg (deflated 19%)\n",
            "  adding: content/538899/detail_538899_13_500.jpg (deflated 0%)\n",
            "  adding: content/538899/detail_538899_10_500.jpg (deflated 0%)\n",
            "  adding: content/1403092/ (stored 0%)\n",
            "  adding: content/1403092/detail_1403092_6_500.jpg (deflated 3%)\n",
            "  adding: content/1403092/detail_1403092_8_500.jpg (deflated 2%)\n",
            "  adding: content/1403092/detail_1403092_9_500.jpg (deflated 0%)\n",
            "  adding: content/1403092/detail_1403092_11_500.jpg (deflated 1%)\n",
            "  adding: content/1403092/1403092_5_500.jpg (deflated 0%)\n",
            "  adding: content/1403092/detail_1403092_10_500.jpg (deflated 3%)\n",
            "  adding: content/1403092/thumb-video.gif?20150918 (deflated 18%)\n",
            "  adding: content/1403092/detail_1403092_7_500.jpg (deflated 3%)\n",
            "  adding: content/1830175/ (stored 0%)\n",
            "  adding: content/1830175/1830175_1_500.jpg (deflated 6%)\n",
            "  adding: content/1860490/ (stored 0%)\n",
            "  adding: content/1860490/detail_1860490_4_500.jpg (deflated 6%)\n",
            "  adding: content/1860490/detail_1860490_6_500.jpg (deflated 7%)\n",
            "  adding: content/1860490/detail_1860490_1_500.jpg (deflated 12%)\n",
            "  adding: content/1860490/detail_1860490_5_500.jpg (deflated 9%)\n",
            "  adding: content/1860490/1860490_1_500.jpg (deflated 3%)\n",
            "  adding: content/1860490/detail_1860490_3_500.jpg (deflated 9%)\n",
            "  adding: content/1860490/detail_1860490_2_500.jpg (deflated 6%)\n",
            "  adding: content/1876384/ (stored 0%)\n",
            "  adding: content/1876384/1876384_1_500.jpg (deflated 0%)\n",
            "  adding: content/1876384/detail_1876384_4_500.jpg (deflated 1%)\n",
            "  adding: content/1876384/detail_1876384_9_500.jpg (deflated 5%)\n",
            "  adding: content/1876384/detail_1876384_3_500.jpg (deflated 0%)\n",
            "  adding: content/1876384/detail_1876384_5_500.jpg (deflated 7%)\n",
            "  adding: content/1876384/detail_1876384_8_500.jpg (deflated 0%)\n",
            "  adding: content/1876384/detail_1876384_1_500.jpg (deflated 1%)\n",
            "  adding: content/1876384/detail_1876384_6_500.jpg (deflated 9%)\n",
            "  adding: content/1876384/detail_1876384_7_500.jpg (deflated 3%)\n",
            "  adding: content/1876384/detail_1876384_10_500.jpg (deflated 3%)\n",
            "  adding: content/1820701/ (stored 0%)\n",
            "  adding: content/1820701/detail_1820701_2_500.jpg (deflated 4%)\n",
            "  adding: content/1820701/1820701_3_500.jpg (deflated 8%)\n",
            "  adding: content/1820701/detail_1820701_3_500.jpg (deflated 1%)\n",
            "  adding: content/1820701/detail_1820701_1_500.jpg (deflated 10%)\n",
            "  adding: content/1840098/ (stored 0%)\n",
            "  adding: content/1840098/detail_1840098_7_500.jpg (deflated 1%)\n",
            "  adding: content/1840098/detail_1840098_9_500.jpg (deflated 1%)\n",
            "  adding: content/1840098/1840098_1_500.jpg (deflated 9%)\n",
            "  adding: content/1840098/detail_1840098_4_500.jpg (deflated 2%)\n",
            "  adding: content/1840098/detail_1840098_6_500.jpg (deflated 9%)\n",
            "  adding: content/1840098/detail_1840098_5_500.jpg (deflated 11%)\n",
            "  adding: content/1840098/detail_1840098_1_500.jpg (deflated 2%)\n",
            "  adding: content/1840098/detail_1840098_3_500.jpg (deflated 5%)\n",
            "  adding: content/1840098/detail_1840098_8_500.jpg (deflated 10%)\n",
            "  adding: content/1840098/detail_1840098_2_500.jpg (deflated 0%)\n",
            "  adding: content/1919855/ (stored 0%)\n",
            "  adding: content/1919855/detail_1919855_1_500.jpg (deflated 4%)\n",
            "  adding: content/1919855/1919855_1_500.jpg (deflated 6%)\n",
            "  adding: content/1919855/detail_1919855_3_500.jpg (deflated 6%)\n",
            "  adding: content/1919855/detail_1919855_2_500.jpg (deflated 2%)\n",
            "  adding: content/1919855/detail_1919855_6_500.jpg (deflated 0%)\n",
            "  adding: content/1919855/detail_1919855_4_500.jpg (deflated 5%)\n",
            "  adding: content/1919855/detail_1919855_5_500.jpg (deflated 0%)\n",
            "  adding: content/1876405/ (stored 0%)\n",
            "  adding: content/1876405/detail_1876405_5_500.jpg (deflated 2%)\n",
            "  adding: content/1876405/detail_1876405_4_500.jpg (deflated 4%)\n",
            "  adding: content/1876405/detail_1876405_3_500.jpg (deflated 0%)\n",
            "  adding: content/1876405/detail_1876405_2_500.jpg (deflated 2%)\n",
            "  adding: content/1876405/detail_1876405_1_500.jpg (deflated 8%)\n",
            "  adding: content/1876405/1876405_1_500.jpg (deflated 5%)\n",
            "  adding: content/1876405/detail_1876405_6_500.jpg (deflated 0%)\n",
            "  adding: content/1854521/ (stored 0%)\n",
            "  adding: content/1854521/detail_1854521_7_500.jpg (deflated 1%)\n",
            "  adding: content/1854521/detail_1854521_1_500.jpg (deflated 3%)\n",
            "  adding: content/1854521/detail_1854521_6_500.jpg (deflated 4%)\n",
            "  adding: content/1854521/1854521_1_500.jpg (deflated 8%)\n",
            "  adding: content/1854521/detail_1854521_3_500.jpg (deflated 5%)\n",
            "  adding: content/1854521/detail_1854521_2_500.jpg (deflated 1%)\n",
            "  adding: content/1854521/detail_1854521_5_500.jpg (deflated 5%)\n",
            "  adding: content/1854521/detail_1854521_4_500.jpg (deflated 11%)\n",
            "  adding: content/1848166/ (stored 0%)\n",
            "  adding: content/1848166/detail_1848166_6_500.jpg (deflated 10%)\n",
            "  adding: content/1848166/detail_1848166_8_500.jpg (deflated 2%)\n",
            "  adding: content/1848166/1848166_4_500.jpg (deflated 6%)\n",
            "  adding: content/1848166/detail_1848166_3_500.jpg (deflated 4%)\n",
            "  adding: content/1848166/detail_1848166_7_500.jpg (deflated 11%)\n",
            "  adding: content/1848166/detail_1848166_1_500.jpg (deflated 13%)\n",
            "  adding: content/1848166/detail_1848166_2_500.jpg (deflated 14%)\n",
            "  adding: content/1848166/detail_1848166_10_500.jpg (deflated 1%)\n",
            "  adding: content/1848166/detail_1848166_11_500.jpg (deflated 9%)\n",
            "  adding: content/1848166/detail_1848166_5_500.jpg (deflated 0%)\n",
            "  adding: content/1848166/detail_1848166_9_500.jpg (deflated 9%)\n",
            "  adding: content/1848166/detail_1848166_4_500.jpg (deflated 19%)\n",
            "  adding: content/1375522/ (stored 0%)\n",
            "  adding: content/1375522/detail_1375522_12_500.png (deflated 0%)\n",
            "  adding: content/1375522/detail_1375522_14_500.png (deflated 0%)\n",
            "  adding: content/1375522/detail_1375522_7_500.png (deflated 0%)\n",
            "  adding: content/1375522/detail_1375522_11_500.png (deflated 0%)\n",
            "  adding: content/1375522/detail_1375522_9_500.png (deflated 0%)\n",
            "  adding: content/1375522/detail_1375522_5_500.png (deflated 0%)\n",
            "  adding: content/1375522/detail_1375522_8_500.png (deflated 0%)\n",
            "  adding: content/1375522/1375522_2_500.png (deflated 0%)\n",
            "  adding: content/1375522/detail_1375522_10_500.png (deflated 0%)\n",
            "  adding: content/1375522/detail_1375522_6_500.png (deflated 0%)\n",
            "  adding: content/1375522/detail_1375522_15_500.png (deflated 0%)\n",
            "  adding: content/1375522/detail_1375522_4_500.png (deflated 0%)\n",
            "  adding: content/1375522/detail_1375522_3_500.png (deflated 0%)\n",
            "  adding: content/1375522/detail_1375522_2_500.png (deflated 0%)\n",
            "  adding: content/1827196/ (stored 0%)\n",
            "  adding: content/1827196/detail_1827196_3_500.jpg (deflated 0%)\n",
            "  adding: content/1827196/detail_1827196_5_500.jpg (deflated 1%)\n",
            "  adding: content/1827196/detail_1827196_2_500.jpg (deflated 9%)\n",
            "  adding: content/1827196/1827196_1_500.jpg (deflated 6%)\n",
            "  adding: content/1827196/detail_1827196_4_500.jpg (deflated 5%)\n",
            "  adding: content/1827196/detail_1827196_1_500.jpg (deflated 6%)\n",
            "  adding: content/1820693/ (stored 0%)\n",
            "  adding: content/1820693/1820693_3_500.jpg (deflated 7%)\n",
            "  adding: content/1820693/detail_1820693_2_500.jpg (deflated 3%)\n",
            "  adding: content/1820693/detail_1820693_3_500.jpg (deflated 0%)\n",
            "  adding: content/1820693/detail_1820693_1_500.jpg (deflated 8%)\n",
            "  adding: content/748056/ (stored 0%)\n",
            "  adding: content/748056/detail_748056_11_500.jpg (deflated 7%)\n",
            "  adding: content/748056/748056_8_500.jpg (deflated 5%)\n",
            "  adding: content/748056/detail_748056_9_500.jpg (deflated 5%)\n",
            "  adding: content/748056/detail_748056_8_500.jpg (deflated 7%)\n",
            "  adding: content/748056/detail_748056_10_500.jpg (deflated 1%)\n",
            "  adding: content/748056/detail_748056_7_500.jpg (deflated 8%)\n",
            "  adding: content/748056/detail_748056_13_500.jpg (deflated 3%)\n",
            "  adding: content/748056/detail_748056_12_500.jpg (deflated 2%)\n",
            "  adding: content/903341/ (stored 0%)\n",
            "  adding: content/903341/903341_4_500.jpg (deflated 5%)\n",
            "  adding: content/903341/detail_903341_3_500.jpg (deflated 0%)\n",
            "  adding: content/903341/detail_903341_1_500.jpg (deflated 5%)\n",
            "  adding: content/903341/detail_903341_2_500.jpg (deflated 2%)\n",
            "  adding: content/1882396/ (stored 0%)\n",
            "  adding: content/1882396/detail_1882396_1_500.jpg (deflated 51%)\n",
            "  adding: content/1882396/1882396_1_500.jpg (deflated 41%)\n",
            "  adding: content/1882396/detail_1882396_2_500.jpg (deflated 0%)\n",
            "  adding: content/1882396/detail_1882396_5_500.png (deflated 0%)\n",
            "  adding: content/1882396/detail_1882396_3_500.png (deflated 0%)\n",
            "  adding: content/1882396/detail_1882396_4_500.png (deflated 0%)\n",
            "  adding: content/1893766/ (stored 0%)\n",
            "  adding: content/1893766/detail_1893766_8_500.jpg (deflated 5%)\n",
            "  adding: content/1893766/1893766_2_500.jpg (deflated 3%)\n",
            "  adding: content/1893766/detail_1893766_1_500.jpg (deflated 5%)\n",
            "  adding: content/1893766/detail_1893766_7_500.jpg (deflated 4%)\n",
            "  adding: content/1877091/ (stored 0%)\n",
            "  adding: content/1877091/1877091_1_500.jpg (deflated 1%)\n",
            "  adding: content/1877091/thumb-video.gif?20150918 (deflated 18%)\n",
            "  adding: content/1417691/ (stored 0%)\n",
            "  adding: content/1417691/1417691_2_500.jpg (deflated 1%)\n",
            "  adding: content/1417691/detail_1417691_1_500.jpg (deflated 1%)\n",
            "  adding: content/1417691/detail_1417691_2_500.jpg (deflated 1%)\n",
            "  adding: content/1417691/detail_1417691_3_500.jpg (deflated 2%)\n",
            "  adding: content/1417691/detail_1417691_4_500.jpg (deflated 2%)\n",
            "  adding: content/1420730/ (stored 0%)\n",
            "  adding: content/1420730/1420730_1_500.jpg (deflated 4%)\n",
            "  adding: content/detail_1900133_4_500.jpg (deflated 3%)\n",
            "  adding: content/1793385/ (stored 0%)\n",
            "  adding: content/1793385/1793385_5_500.jpg (deflated 6%)\n",
            "  adding: content/1793385/detail_1793385_7_500.jpg (deflated 9%)\n",
            "  adding: content/1793385/detail_1793385_3_500.jpg (deflated 6%)\n",
            "  adding: content/1793385/detail_1793385_4_500.jpg (deflated 1%)\n",
            "  adding: content/1793385/detail_1793385_8_500.jpg (deflated 9%)\n",
            "  adding: content/1911516/ (stored 0%)\n",
            "  adding: content/1911516/1911516_1_500.jpg (deflated 5%)\n",
            "  adding: content/996177/ (stored 0%)\n",
            "  adding: content/996177/detail_996177_24_500.jpg (deflated 1%)\n",
            "  adding: content/996177/detail_996177_19_500.jpg (deflated 0%)\n",
            "  adding: content/996177/996177_3_500.jpg (deflated 0%)\n",
            "  adding: content/996177/detail_996177_18_500.jpg (deflated 1%)\n",
            "  adding: content/996177/thumb-video.gif?20150918 (deflated 18%)\n",
            "  adding: content/996177/detail_996177_21_500.jpg (deflated 1%)\n",
            "  adding: content/1886950/ (stored 0%)\n",
            "  adding: content/1886950/detail_1886950_5_500.jpg (deflated 5%)\n",
            "  adding: content/1886950/detail_1886950_6_500.jpg (deflated 1%)\n",
            "  adding: content/1886950/detail_1886950_2_500.jpg (deflated 10%)\n",
            "  adding: content/1886950/detail_1886950_1_500.jpg (deflated 11%)\n",
            "  adding: content/1886950/1886950_1_500.jpg (deflated 4%)\n",
            "  adding: content/1886950/detail_1886950_4_500.jpg (deflated 0%)\n",
            "  adding: content/1886950/detail_1886950_3_500.jpg (deflated 7%)\n",
            "  adding: content/1840099/ (stored 0%)\n",
            "  adding: content/1840099/1840099_1_500.jpg (deflated 12%)\n",
            "  adding: content/1840099/detail_1840099_9_500.jpg (deflated 2%)\n",
            "  adding: content/1840099/detail_1840099_5_500.jpg (deflated 11%)\n",
            "  adding: content/1840099/detail_1840099_1_500.jpg (deflated 3%)\n",
            "  adding: content/1840099/detail_1840099_8_500.jpg (deflated 7%)\n",
            "  adding: content/1840099/detail_1840099_2_500.jpg (deflated 1%)\n",
            "  adding: content/1840099/detail_1840099_3_500.jpg (deflated 8%)\n",
            "  adding: content/1840099/detail_1840099_6_500.jpg (deflated 5%)\n",
            "  adding: content/1840099/detail_1840099_7_500.jpg (deflated 1%)\n",
            "  adding: content/1840099/detail_1840099_4_500.jpg (deflated 4%)\n",
            "  adding: content/345889/ (stored 0%)\n",
            "  adding: content/345889/detail_345889_2_500.jpg (deflated 5%)\n",
            "  adding: content/345889/345889_11_500.jpg (deflated 6%)\n",
            "  adding: content/1827193/ (stored 0%)\n",
            "  adding: content/1827193/1827193_1_500.jpg (deflated 5%)\n",
            "  adding: content/1827193/detail_1827193_4_500.jpg (deflated 1%)\n",
            "  adding: content/1827193/detail_1827193_1_500.jpg (deflated 7%)\n",
            "  adding: content/1827193/detail_1827193_3_500.jpg (deflated 0%)\n",
            "  adding: content/1827193/detail_1827193_2_500.jpg (deflated 13%)\n",
            "  adding: content/1051406/ (stored 0%)\n",
            "  adding: content/1051406/1051406_1_500.jpg (deflated 0%)\n",
            "  adding: content/2008051/ (stored 0%)\n",
            "  adding: content/2008051/detail_2008051_5_500.jpg (deflated 3%)\n",
            "  adding: content/2008051/detail_2008051_4_500.jpg (deflated 4%)\n",
            "  adding: content/2008051/detail_2008051_2_500.jpg (deflated 4%)\n",
            "  adding: content/2008051/detail_2008051_10_500.jpg (deflated 0%)\n",
            "  adding: content/2008051/detail_2008051_7_500.jpg (deflated 1%)\n",
            "  adding: content/2008051/detail_2008051_1_500.jpg (deflated 0%)\n",
            "  adding: content/2008051/detail_2008051_9_500.jpg (deflated 1%)\n",
            "  adding: content/2008051/2008051_7_500.jpg (deflated 0%)\n",
            "  adding: content/2008051/detail_2008051_6_500.jpg (deflated 0%)\n",
            "  adding: content/2008051/detail_2008051_8_500.jpg (deflated 1%)\n",
            "  adding: content/2008051/detail_2008051_3_500.jpg (deflated 3%)\n",
            "  adding: content/1761969/ (stored 0%)\n",
            "  adding: content/1761969/1761969_3_500.jpg (deflated 1%)\n",
            "  adding: content/1761969/thumb-video.gif?20150918 (deflated 18%)\n",
            "  adding: content/1425234/ (stored 0%)\n",
            "  adding: content/1425234/detail_1425234_2_500.jpg (deflated 5%)\n",
            "  adding: content/1425234/1425234_2_500.jpg (deflated 5%)\n",
            "  adding: content/1027583/ (stored 0%)\n",
            "  adding: content/1027583/detail_1027583_2_500.jpg (deflated 1%)\n",
            "  adding: content/1027583/1027583_4_500.jpg (deflated 4%)\n",
            "  adding: content/1027583/detail_1027583_3_500.jpg (deflated 2%)\n",
            "  adding: content/1027583/detail_1027583_1_500.jpg (deflated 2%)\n",
            "  adding: content/1876392/ (stored 0%)\n",
            "  adding: content/1876392/detail_1876392_4_500.jpg (deflated 9%)\n",
            "  adding: content/1876392/detail_1876392_6_500.jpg (deflated 1%)\n",
            "  adding: content/1876392/detail_1876392_1_500.jpg (deflated 12%)\n",
            "  adding: content/1876392/detail_1876392_3_500.jpg (deflated 6%)\n",
            "  adding: content/1876392/detail_1876392_5_500.jpg (deflated 9%)\n",
            "  adding: content/1876392/detail_1876392_2_500.jpg (deflated 1%)\n",
            "  adding: content/1876392/1876392_1_500.jpg (deflated 8%)\n",
            "  adding: content/987149/ (stored 0%)\n",
            "  adding: content/987149/detail_987149_3_500.jpg (deflated 0%)\n",
            "  adding: content/987149/987149_3_500.jpg (deflated 0%)\n",
            "  adding: content/747941/ (stored 0%)\n",
            "  adding: content/747941/747941_1_500.jpg (deflated 10%)\n",
            "  adding: content/746276/ (stored 0%)\n",
            "  adding: content/746276/746276_4_500.jpg (deflated 0%)\n",
            "  adding: content/746276/detail_746276_7_500.jpg (deflated 2%)\n",
            "  adding: content/746276/detail_746276_9_500.jpg (deflated 12%)\n",
            "  adding: content/746276/detail_746276_6_500.jpg (deflated 8%)\n",
            "  adding: content/746276/detail_746276_5_500.jpg (deflated 7%)\n",
            "  adding: content/746276/detail_746276_8_500.jpg (deflated 0%)\n",
            "  adding: content/1900133/ (stored 0%)\n",
            "  adding: content/1900133/detail_1900133_5_500.jpg (deflated 0%)\n",
            "  adding: content/1900133/detail_1900133_2_500.jpg (deflated 13%)\n",
            "  adding: content/1900133/detail_1900133_3_500.jpg (deflated 15%)\n",
            "  adding: content/1900133/detail_1900133_4_500.jpg (deflated 3%)\n",
            "  adding: content/1900133/1900133_2_500.jpg (deflated 0%)\n",
            "  adding: content/324416/ (stored 0%)\n",
            "  adding: content/324416/detail_324416_14_500.jpg (deflated 4%)\n",
            "  adding: content/324416/detail_324416_17_500.jpg (deflated 3%)\n",
            "  adding: content/324416/detail_324416_16_500.jpg (deflated 4%)\n",
            "  adding: content/324416/detail_324416_15_500.jpg (deflated 3%)\n",
            "  adding: content/324416/detail_324416_18_500.jpg (deflated 12%)\n",
            "  adding: content/324416/324416_1_500.jpg (deflated 0%)\n",
            "  adding: content/324416/detail_324416_13_500.jpg (deflated 6%)\n",
            "  adding: content/1816729/ (stored 0%)\n",
            "  adding: content/1816729/1816729_1_500.jpg (deflated 0%)\n",
            "  adding: content/1356896/ (stored 0%)\n",
            "  adding: content/1356896/1356896_2_500.jpg (deflated 4%)\n",
            "  adding: content/1356896/detail_1356896_2_500.jpg (deflated 4%)\n",
            "  adding: content/1356896/thumb-video.gif?20150918 (deflated 18%)\n",
            "  adding: content/1900133_2_500.jpg (deflated 0%)\n",
            "  adding: content/sample_data/ (stored 0%)\n",
            "  adding: content/sample_data/anscombe.json (deflated 83%)\n",
            "  adding: content/sample_data/README.md (deflated 42%)\n",
            "  adding: content/sample_data/california_housing_train.csv (deflated 79%)\n",
            "  adding: content/sample_data/mnist_train_small.csv (deflated 88%)\n",
            "  adding: content/sample_data/california_housing_test.csv (deflated 76%)\n",
            "  adding: content/sample_data/mnist_test.csv (deflated 88%)\n"
          ],
          "name": "stdout"
        }
      ]
    },
    {
      "cell_type": "markdown",
      "metadata": {
        "id": "uAoaXJFrwHdH"
      },
      "source": [
        "파일 다운로드"
      ]
    },
    {
      "cell_type": "code",
      "metadata": {
        "colab": {
          "base_uri": "https://localhost:8080/",
          "height": 33
        },
        "id": "pZ7NWypEwKYq",
        "outputId": "a4d13254-4451-4c41-ccb6-24663f9bd1d2"
      },
      "source": [
        "from google.colab import files\n",
        "\n",
        "files.download(\"files.zip\")"
      ],
      "execution_count": null,
      "outputs": [
        {
          "output_type": "display_data",
          "data": {
            "application/javascript": [
              "\n",
              "    async function download(id, filename, size) {\n",
              "      if (!google.colab.kernel.accessAllowed) {\n",
              "        return;\n",
              "      }\n",
              "      const div = document.createElement('div');\n",
              "      const label = document.createElement('label');\n",
              "      label.textContent = `Downloading \"${filename}\": `;\n",
              "      div.appendChild(label);\n",
              "      const progress = document.createElement('progress');\n",
              "      progress.max = size;\n",
              "      div.appendChild(progress);\n",
              "      document.body.appendChild(div);\n",
              "\n",
              "      const buffers = [];\n",
              "      let downloaded = 0;\n",
              "\n",
              "      const channel = await google.colab.kernel.comms.open(id);\n",
              "      // Send a message to notify the kernel that we're ready.\n",
              "      channel.send({})\n",
              "\n",
              "      for await (const message of channel.messages) {\n",
              "        // Send a message to notify the kernel that we're ready.\n",
              "        channel.send({})\n",
              "        if (message.buffers) {\n",
              "          for (const buffer of message.buffers) {\n",
              "            buffers.push(buffer);\n",
              "            downloaded += buffer.byteLength;\n",
              "            progress.value = downloaded;\n",
              "          }\n",
              "        }\n",
              "      }\n",
              "      const blob = new Blob(buffers, {type: 'application/binary'});\n",
              "      const a = document.createElement('a');\n",
              "      a.href = window.URL.createObjectURL(blob);\n",
              "      a.download = filename;\n",
              "      div.appendChild(a);\n",
              "      a.click();\n",
              "      div.remove();\n",
              "    }\n",
              "  "
            ],
            "text/plain": [
              "<IPython.core.display.Javascript object>"
            ]
          },
          "metadata": {
            "tags": []
          }
        },
        {
          "output_type": "display_data",
          "data": {
            "application/javascript": [
              "download(\"download_70f49d03-16fe-4525-bc27-f65132d4b2d1\", \"files.zip\", 21549976)"
            ],
            "text/plain": [
              "<IPython.core.display.Javascript object>"
            ]
          },
          "metadata": {
            "tags": []
          }
        }
      ]
    }
  ]
}